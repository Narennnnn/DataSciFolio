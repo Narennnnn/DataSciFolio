{
  "nbformat": 4,
  "nbformat_minor": 0,
  "metadata": {
    "colab": {
      "provenance": [],
      "authorship_tag": "ABX9TyNtd/ZBuDSZIA5vxLHN9VoA",
      "include_colab_link": true
    },
    "kernelspec": {
      "name": "python3",
      "display_name": "Python 3"
    },
    "language_info": {
      "name": "python"
    }
  },
  "cells": [
    {
      "cell_type": "markdown",
      "metadata": {
        "id": "view-in-github",
        "colab_type": "text"
      },
      "source": [
        "<a href=\"https://colab.research.google.com/github/Narennnnn/MLProjects/blob/main/CasaValuation.ipynb\" target=\"_parent\"><img src=\"https://colab.research.google.com/assets/colab-badge.svg\" alt=\"Open In Colab\"/></a>"
      ]
    },
    {
      "cell_type": "code",
      "execution_count": 2,
      "metadata": {
        "colab": {
          "base_uri": "https://localhost:8080/"
        },
        "id": "l6VStVnt-YEr",
        "outputId": "dff9d7fa-156b-4c32-aef3-540d6b54f5b9"
      },
      "outputs": [
        {
          "output_type": "stream",
          "name": "stdout",
          "text": [
            "Enter the area of the house: 25000\n",
            "Enter the number of bedrooms: 4\n",
            "Enter the age of the house: 5\n",
            "The estimated price of the house is $3,279,790.06\n"
          ]
        },
        {
          "output_type": "stream",
          "name": "stderr",
          "text": [
            "/usr/local/lib/python3.10/dist-packages/sklearn/base.py:439: UserWarning: X does not have valid feature names, but LinearRegression was fitted with feature names\n",
            "  warnings.warn(\n"
          ]
        }
      ],
      "source": [
        "from sklearn.linear_model import LinearRegression\n",
        "import pandas as pd\n",
        "\n",
        "# Load the dataset from a CSV file\n",
        "df = pd.read_csv(\"homeprices_2.csv\")\n",
        "\n",
        "# Create the feature matrix (X) and target variable (y)\n",
        "X = df[['area', 'bedrooms', 'age']]  # Features (e.g., area, bedrooms, age)\n",
        "y = df['price']  # Target values (e.g., house prices)\n",
        "\n",
        "# Instantiate the Linear Regression model\n",
        "model = LinearRegression()\n",
        "\n",
        "# Fit the model with the training data\n",
        "model.fit(X, y)\n",
        "\n",
        "# Collect input from the user\n",
        "area = float(input('Enter the area of the house: '))\n",
        "bedrooms = int(input('Enter the number of bedrooms: '))\n",
        "age = int(input('Enter the age of the house: '))\n",
        "\n",
        "# Make predictions for the user's input\n",
        "predicted_price = model.predict([[area, bedrooms, age]])\n",
        "\n",
        "# Display the predicted price\n",
        "print(f'The estimated price of the house is ${predicted_price[0]:,.2f}')\n"
      ]
    }
  ]
}