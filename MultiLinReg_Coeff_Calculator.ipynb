{
  "nbformat": 4,
  "nbformat_minor": 0,
  "metadata": {
    "colab": {
      "provenance": [],
      "authorship_tag": "ABX9TyN0kzDZec8GwzkNYBCClMbM",
      "include_colab_link": true
    },
    "kernelspec": {
      "name": "python3",
      "display_name": "Python 3"
    },
    "language_info": {
      "name": "python"
    }
  },
  "cells": [
    {
      "cell_type": "markdown",
      "metadata": {
        "id": "view-in-github",
        "colab_type": "text"
      },
      "source": [
        "<a href=\"https://colab.research.google.com/github/Narennnnn/DataSciFolio/blob/main/MultiLinReg_Coeff_Calculator.ipynb\" target=\"_parent\"><img src=\"https://colab.research.google.com/assets/colab-badge.svg\" alt=\"Open In Colab\"/></a>"
      ]
    },
    {
      "cell_type": "code",
      "source": [
        "import numpy as np\n",
        "\n",
        "num_independent_vars = int(input(\"Enter the number of independent variables: \"))\n",
        "\n",
        "X = []\n",
        "\n",
        "for i in range(num_independent_vars):\n",
        "    var_data = input(f\"Enter data for X{i + 1} (comma-separated values): \")\n",
        "    X_i = np.array([float(x) for x in var_data.split(\",\")])\n",
        "    X.append(X_i)\n",
        "\n",
        "Y = np.array([float(y) for y in input(\"Enter data for Y (comma-separated values): \").split(\",\")])\n",
        "\n",
        "\n",
        "X.insert(0, np.ones_like(Y))\n",
        "X = np.column_stack(X)\n",
        "\n",
        "beta = np.linalg.inv(X.T.dot(X)).dot(X.T).dot(Y)\n",
        "\n",
        "coefficients = [\"Intercept\"] + [f\"β{i + 1}\" for i in range(num_independent_vars)]\n",
        "coefficients_values = [beta[0]] + list(beta[1:])\n",
        "\n",
        "for i, coef in enumerate(coefficients):\n",
        "    print(f\"Coefficient {coef}: {coefficients_values[i]}\")\n"
      ],
      "metadata": {
        "colab": {
          "base_uri": "https://localhost:8080/"
        },
        "id": "mzu7fMfNdfca",
        "outputId": "2ac5644c-a878-4db4-9c65-ac90b5d59547"
      },
      "execution_count": 5,
      "outputs": [
        {
          "output_type": "stream",
          "name": "stdout",
          "text": [
            "Enter the number of independent variables: 2\n",
            "Enter data for X1 (comma-separated values): 2,4,5,7\n",
            "Enter data for X2 (comma-separated values): 11,15,8,17\n",
            "Enter data for Y (comma-separated values): 10,11,19,21\n",
            "Coefficient Intercept: 9.259720837487507\n",
            "Coefficient β1: 2.9187437686939175\n",
            "Coefficient β2: -0.5603190428713858\n"
          ]
        }
      ]
    }
  ]
}